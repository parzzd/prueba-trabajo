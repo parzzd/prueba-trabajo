{
 "cells": [
  {
   "cell_type": "code",
   "execution_count": null,
   "metadata": {},
   "outputs": [],
   "source": [
    "from dash import Dash, html, dcc, callback, Output, Input\n",
    "import plotly.express as px\n",
    "import pandas as pd\n",
    "\n",
    "df = pd.read_csv('https://raw.githubusercontent.com/plotly/datasets/master/gapminder_unfiltered.csv')\n",
    "\n",
    "\n",
    "# Obtener lista de países únicos\n",
    "countries = df[\"country\"].unique()\n",
    "\n",
    "app = Dash(__name__)\n",
    "\n",
    "app.layout = html.Div([\n",
    "    html.H2(\"Selecciona el país\"),\n",
    "    dcc.Dropdown(\n",
    "        id=\"country-dropdown\",\n",
    "        options=[{\"label\": country, \"value\": country} for country in countries],\n",
    "        multi=True,\n",
    "        placeholder=\"Elige un país\"\n",
    "    ),\n",
    "    dcc.Graph(id=\"country-graph\")\n",
    "])\n",
    "\n",
    "@app.callback(\n",
    "    Output(\"country-graph\", \"figure\"),\n",
    "    [Input(\"country-dropdown\", \"value\")]\n",
    ")\n",
    "def update_graph(selected_countries):\n",
    "    if not selected_countries:\n",
    "        filtered_df = df\n",
    "    else:\n",
    "        filtered_df = df[df[\"country\"].isin(selected_countries)]\n",
    "    \n",
    "    fig = px.line(filtered_df, x=\"year\", y=\"lifeExp\", color=\"country\", markers=True,\n",
    "                  title=\"Esperanza de Vida a lo Largo del Tiempo\")\n",
    "    \n",
    "    fig.write_html(\"grafico_interactivo.html\")\n",
    "\n",
    "    return fig\n",
    "\n",
    "if __name__ == \"__main__\":\n",
    "    app.run_server(debug=True)\n"
   ]
  }
 ],
 "metadata": {
  "kernelspec": {
   "display_name": "Python 3",
   "language": "python",
   "name": "python3"
  },
  "language_info": {
   "name": "python",
   "version": "3.11.5"
  }
 },
 "nbformat": 4,
 "nbformat_minor": 2
}
